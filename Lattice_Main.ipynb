{
  "nbformat": 4,
  "nbformat_minor": 0,
  "metadata": {
    "colab": {
      "name": "Lattice Main.ipynb",
      "provenance": [],
      "collapsed_sections": []
    },
    "kernelspec": {
      "name": "python3",
      "display_name": "Python 3"
    }
  },
  "cells": [
    {
      "cell_type": "code",
      "metadata": {
        "id": "MrGUFnGMOYUi",
        "colab_type": "code",
        "colab": {}
      },
      "source": [
        "#Uploading all the data from the repo\n",
        "!git clone https://github.com/9characters/Regression-Performance-Analysis"
      ],
      "execution_count": null,
      "outputs": []
    },
    {
      "cell_type": "markdown",
      "metadata": {
        "id": "zrXaD3qMOo0s",
        "colab_type": "text"
      },
      "source": [
        "#Importing Libraries"
      ]
    },
    {
      "cell_type": "code",
      "metadata": {
        "id": "yFSx83LCOtdv",
        "colab_type": "code",
        "colab": {}
      },
      "source": [
        "import numpy as np\n",
        "import pandas as pd\n",
        "from sklearn.preprocessing import StandardScaler\n",
        "\n",
        "from display import *\n",
        "from helper import *"
      ],
      "execution_count": null,
      "outputs": []
    },
    {
      "cell_type": "markdown",
      "metadata": {
        "id": "4sL2_bl8OzWx",
        "colab_type": "text"
      },
      "source": [
        "#Importing the regression models"
      ]
    },
    {
      "cell_type": "code",
      "metadata": {
        "id": "XjA8Veb8O6l6",
        "colab_type": "code",
        "colab": {}
      },
      "source": [
        "# Function required at last\n",
        "pad = lambda y_true, y_pred: ( np.abs(y_true - y_pred) / y_true) * 100"
      ],
      "execution_count": null,
      "outputs": []
    },
    {
      "cell_type": "markdown",
      "metadata": {
        "id": "vB-EW5ArO9Jv",
        "colab_type": "text"
      },
      "source": [
        "#Importing and Processing Data"
      ]
    },
    {
      "cell_type": "code",
      "metadata": {
        "id": "r3KrQDHSO-Q_",
        "colab_type": "code",
        "colab": {}
      },
      "source": [
        "columns = [\"compound\", \"ra\", \"rb\", \"fe\", \"bg\", \"a\", \"b\", \"c\", \"shape\"]\n",
        "inputs = {0:\"ra\", 1:\"rb\", 2:\"fe\", 3:\"bg\"}\n",
        "mapping = {0:\"a\", 1:\"b\", 2:\"c\"}\n",
        "\n",
        "data = pd.read_excel(\"cubic and orthorhomic.xlsx\", sheet_name='cubic')\n",
        "data.columns = columns"
      ],
      "execution_count": null,
      "outputs": []
    },
    {
      "cell_type": "code",
      "metadata": {
        "id": "BxFR0_-xPAYj",
        "colab_type": "code",
        "colab": {}
      },
      "source": [
        "#Separating the dependent and independent variables\n",
        "X = data.iloc[:, 1:5].dropna().values\n",
        "y = data.iloc[:, 5:-1].dropna().values"
      ],
      "execution_count": null,
      "outputs": []
    },
    {
      "cell_type": "code",
      "metadata": {
        "id": "5fknB3GHPEdB",
        "colab_type": "code",
        "colab": {}
      },
      "source": [
        "#Standardizing the data\n",
        "scaler = StandardScaler()\n",
        "X = scaler.fit_transform(X)\n",
        "X = scaler.transform(X)"
      ],
      "execution_count": null,
      "outputs": []
    },
    {
      "cell_type": "code",
      "metadata": {
        "id": "Z6AyknwZPEXt",
        "colab_type": "code",
        "colab": {}
      },
      "source": [
        "#Dictionaries to store the r2_scores from different regressors\n",
        "r2_scores = {}\n",
        "predictions = {}"
      ],
      "execution_count": null,
      "outputs": []
    },
    {
      "cell_type": "markdown",
      "metadata": {
        "id": "5FjgCjusUenu",
        "colab_type": "text"
      },
      "source": [
        "#Assigining the regressor and working with it"
      ]
    },
    {
      "cell_type": "code",
      "metadata": {
        "id": "oUdsJx0NZK0p",
        "colab_type": "code",
        "colab": {}
      },
      "source": [
        "'''\n",
        "NOTE:\n",
        "Random Forest = RF\n",
        "Decision Tree = DT\n",
        "Linear Regression = LR\n",
        "K Nearest Neighbour = KNN\n",
        "Linear SVR = LSVR\n",
        "Polynomial SVR = PSVR\n",
        "RBF Kernel SVR = RBFSVR\n",
        "'''"
      ],
      "execution_count": null,
      "outputs": []
    },
    {
      "cell_type": "code",
      "metadata": {
        "id": "ZBdBHwwpfIei",
        "colab_type": "code",
        "colab": {}
      },
      "source": [
        "r_models = [\"RF\", \"DT\", \"LR\", \"KNN\", \"LSVR\", \"PSVR\", \"RBFSVR\", \"ANN\"]"
      ],
      "execution_count": null,
      "outputs": []
    },
    {
      "cell_type": "code",
      "metadata": {
        "id": "rim9KgN0PRQM",
        "colab_type": "code",
        "colab": {}
      },
      "source": [
        "for r_model in r_models:\n",
        "    #Prompt to get the regression model\n",
        "    prompt = r_model\n",
        "\n",
        "    #Getting the best 16-folds cross validated data\n",
        "    X_train, X_test, y_train, y_test, y_pred, regressor, model, r2_score, coffs, intercepts = get_best_data(X,y, prompt)\n",
        "    print(f\"Optimal R2 Score for {regressor} is {r2_score}\")\n",
        "\n",
        "    #Storing the r2_score and predictions in the dictionaries\n",
        "    r2_scores[regressor] = r2_score\n",
        "    predictions[regressor] = y_pred\n",
        "\n",
        "    # Analysis for Random Forest Regressor:\n",
        "    if prompt == \"RF\":\n",
        "        print(\"\\nFeature Importance:\")\n",
        "        for i,c in enumerate(columns[1:-4]):\n",
        "            print(f\"{c}:\\t{model.feature_importances_[i].round(3)}\")\n",
        "\n",
        "    # Analysis for Linear Regressor:\n",
        "    if prompt == \"LR\":\n",
        "        coffs = np.round(model.coef_, 3)\n",
        "        intercepts = np.round(model.intercept_, 3)\n",
        "        \n",
        "        print(\"\\nApproximated Equations from Linear Model:\")\n",
        "        for i in mapping:\n",
        "            print(f\"{mapping[i]} = {coffs[i][0]}{inputs[0]} + {coffs[i][1]}{inputs[1]} + {coffs[i][2]}{inputs[2]} + {coffs[i][3]}{inputs[3]} + {intercepts[i]}\")\n",
        "\n",
        "    # Analysis for Support Vector Regressor:\n",
        "    if \"SVR\" in prompt:\n",
        "        print(f\"\\nApproximated Equations from {regressor} Model: \")\n",
        "        for i in mapping:\n",
        "            print(f\"{mapping[i]} = {coffs[i][0][0]}{inputs[0]} + {coffs[i][0][1]}{inputs[1]} + {coffs[i][0][2]}{inputs[2]} + {coffs[i][0][3]}{inputs[3]} + {intercepts[i]}\")\n",
        "\n",
        "    #Display Plots\n",
        "    exp_vs_pred_subplots(y_test, y_pred, regressor)\n",
        "\n",
        "    exp_vs_pred_lc(y_test, y_pred, regressor, r2_score)\n",
        "\n",
        "    names = X_test[:, 0]\n",
        "    exp_vs_pred_plotly(y_test, y_pred, regressor, names)"
      ],
      "execution_count": null,
      "outputs": []
    },
    {
      "cell_type": "markdown",
      "metadata": {
        "id": "lg7Dt297WxT3",
        "colab_type": "text"
      },
      "source": [
        "#Comparision of performance of all regression models"
      ]
    },
    {
      "cell_type": "code",
      "metadata": {
        "id": "RYZuonoSW1--",
        "colab_type": "code",
        "colab": {}
      },
      "source": [
        "comparision(r2_scores)"
      ],
      "execution_count": null,
      "outputs": []
    },
    {
      "cell_type": "markdown",
      "metadata": {
        "id": "fGRMiBK12Gav",
        "colab_type": "text"
      },
      "source": [
        "#Calculating PAD and Predicted value for Table"
      ]
    },
    {
      "cell_type": "code",
      "metadata": {
        "id": "YZj1PDi32IIq",
        "colab_type": "code",
        "colab": {}
      },
      "source": [
        "prediction_table = pd.concat([\n",
        "       pd.DataFrame(v, columns=['a', 'b', 'c'], index=np.repeat(k, len(v))) \n",
        "       for k, v in predictions.items()\n",
        "  ]\n",
        ").rename_axis('algorithm').reset_index()"
      ],
      "execution_count": null,
      "outputs": []
    },
    {
      "cell_type": "code",
      "metadata": {
        "id": "eXU2ew0B2WbD",
        "colab_type": "code",
        "colab": {
          "base_uri": "https://localhost:8080/",
          "height": 119
        },
        "outputId": "bf88a5ba-3cbe-42d4-9f89-b94adbbe5934"
      },
      "source": [
        "print(prediction_table.head())"
      ],
      "execution_count": 17,
      "outputs": [
        {
          "output_type": "stream",
          "text": [
            "       algorithm         a         b         c\n",
            "0  Random Forest  4.048300  4.048300  4.048300\n",
            "1  Random Forest  3.323540  3.323540  3.323540\n",
            "2  Random Forest  3.471310  3.471310  3.471310\n",
            "3  Random Forest  4.086372  4.086372  4.086372\n",
            "4  Random Forest  3.716070  3.716070  3.716070\n"
          ],
          "name": "stdout"
        }
      ]
    },
    {
      "cell_type": "code",
      "metadata": {
        "id": "hXK5HnLB2Zgv",
        "colab_type": "code",
        "colab": {}
      },
      "source": [
        "pads = {}\n",
        "for algo, y_pred in predictions.items():\n",
        "    pads[algo] = pad(y_test, y_pred)\n",
        "    \n",
        "pad_table = pd.concat([\n",
        "       pd.DataFrame(v, columns=['a', 'b', 'c'], index=np.repeat(k, len(v))) \n",
        "       for k, v in pads.items()\n",
        "  ]\n",
        ").rename_axis('algorithm').reset_index()"
      ],
      "execution_count": null,
      "outputs": []
    },
    {
      "cell_type": "code",
      "metadata": {
        "id": "6AXJzWvH2jLw",
        "colab_type": "code",
        "colab": {}
      },
      "source": [
        "print(pad_table.head())"
      ],
      "execution_count": null,
      "outputs": []
    }
  ]
}